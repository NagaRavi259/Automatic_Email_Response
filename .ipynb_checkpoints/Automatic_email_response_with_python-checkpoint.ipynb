{
 "cells": [
  {
   "cell_type": "markdown",
   "id": "fd91397c-5e12-40b3-9cb7-ff2cbdd6d7d8",
   "metadata": {},
   "source": [
    "## Sending email from the python using the imaplib module\n",
    "- loging into the email and sending the mail using the python imap email client"
   ]
  },
  {
   "cell_type": "code",
   "execution_count": null,
   "id": "df9546b6",
   "metadata": {},
   "outputs": [],
   "source": [
    "import imaplib"
   ]
  },
  {
   "cell_type": "code",
   "execution_count": null,
   "id": "198c6cc4",
   "metadata": {},
   "outputs": [],
   "source": [
    "# Connect and login to IMAP mail server\n",
    "username = 'username'\n",
    "password = 'password'\n",
    "mail_server = 'imap.gmail.com' ## type of server that we are using\n",
    "imap_server = imaplib.IMAP4_SSL(host=mail_server)\n",
    "imap_server.login(username, password)"
   ]
  },
  {
   "cell_type": "code",
   "execution_count": null,
   "id": "94d2554d",
   "metadata": {},
   "outputs": [],
   "source": [
    "# List mailboxes (folders)\n",
    "response_code, folders = imap_server.list()\n",
    "print(response_code)  # OK\n",
    "print('Available folders(mailboxes) to select:')\n",
    "for folder_details_raw in folders:\n",
    "    folder_details = folder_details_raw.decode().split()\n",
    "    print(f'- {folder_details[-1]}')"
   ]
  },
  {
   "cell_type": "code",
   "execution_count": null,
   "id": "0abac87d",
   "metadata": {
    "code_folding": []
   },
   "outputs": [],
   "source": [
    "\n",
    "with imaplib.IMAP4_SSL(host=\"imap.gmail.com\", port=imaplib.IMAP4_SSL_PORT) as imap_ssl:\n",
    "    print(\"Connection Object : {}\".format(imap_ssl))\n",
    "\n",
    "    ############### Login to Mailbox ######################\n",
    "    print(\"Logging into mailbox...\")\n",
    "    resp_code, response = imap_ssl.login(\"\n",
    "with imaplib.IMAP4_SSL(host=\"imap.gmail.com\", port=imaplib.IMAP4_SSL_PORT) as imap_ssl:\n",
    "    print(\"Connection Object : {}\".format(imap_ssl))\n",
    "\n",
    "    ############### Login to Mailbox ######################\n",
    "    print(\"Logging into mailbox...\")\n",
    "    resp_code, response = imap_ssl.login(\"Email_Id\", \"app_password\")\n",
    "\n",
    "    print(\"Response Code : {}\".format(resp_code))\n",
    "    print(\"Response      : {}\\n\".format(response[0].decode()))\n",
    "\n",
    "    ############### Set Mailbox #############\n",
    "    resp_code, mail_count = imap_ssl.select(mailbox=\"ELITMUS\", readonly=True)\n",
    "\n",
    "    ############### Retrieve Mail IDs for given Directory #############   \n",
    "    resp_code, mails = imap_ssl.search(None, \"ALL\")\n",
    "    print(\"Mail IDs : {}\\n\".format(mails[0].decode().split()))\", \"app_password\")\n",
    "\n",
    "    print(\"Response Code : {}\".format(resp_code))\n",
    "    print(\"Response      : {}\\n\".format(response[0].decode()))\n",
    "\n",
    "    ############### Set Mailbox #############\n",
    "    resp_code, mail_count = imap_ssl.select(mailbox=\"ELITMUS\", readonly=True)\n",
    "\n",
    "    ############### Retrieve Mail IDs for given Directory #############   \n",
    "    resp_code, mails = imap_ssl.search(None, \"ALL\")\n",
    "    print(\"Mail IDs : {}\\n\".format(mails[0].decode().split()))    \n",
    "    \n",
    "    for mail_id in mails[0].decode().split()[-2:]:\n",
    "        print(\"================== Start of Mail [{}] ====================\".format(mail_id))\n",
    "        resp_code, mail_data = imap_ssl.fetch(mail_id, '(RFC822)') ## Fetch mail data.\n",
    "        message = email.message_from_bytes(mail_data[0][1]) ## Construct Message from mail data\n",
    "        print(\"From       : {}\".format(message.get(\"From\")))\n",
    "        print(\"To         : {}\".format(message.get(\"To\")))\n",
    "        print(\"Bcc        : {}\".format(message.get(\"Bcc\")))\n",
    "        print(\"Date       : {}\".format(message.get(\"Date\")))\n",
    "        print(\"Subject    : {}\".format(message.get(\"Subject\")))\n",
    "\n",
    "        print(\"Body : \")\n",
    "        for part in message.walk():\n",
    "            if part.get_content_type() == \"text/plain\":\n",
    "                body_lines = part.as_string().split(\"\\n\")\n",
    "                print(\"\\n\".join(body_lines[:12])) ### Print first 12 lines of message"
   ]
  },
  {
   "cell_type": "code",
   "execution_count": null,
   "id": "08e6d851",
   "metadata": {},
   "outputs": [],
   "source": []
  }
 ],
 "metadata": {
  "kernelspec": {
   "display_name": "Python 3 (ipykernel)",
   "language": "python",
   "name": "python3"
  },
  "language_info": {
   "codemirror_mode": {
    "name": "ipython",
    "version": 3
   },
   "file_extension": ".py",
   "mimetype": "text/x-python",
   "name": "python",
   "nbconvert_exporter": "python",
   "pygments_lexer": "ipython3",
   "version": "3.9.7"
  }
 },
 "nbformat": 4,
 "nbformat_minor": 5
}
